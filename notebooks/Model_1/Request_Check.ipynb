{
 "cells": [
  {
   "cell_type": "markdown",
   "id": "137d070c-c13a-4953-8636-947d298c8025",
   "metadata": {},
   "source": [
    "### Here I do a request check both locally and using AWS instance"
   ]
  },
  {
   "cell_type": "code",
   "execution_count": 12,
   "id": "c4e81fe9-1e09-402c-b3cf-ff37995d2056",
   "metadata": {},
   "outputs": [],
   "source": [
    "json_data = {\"Gender\":1, \n",
    "    \"Married\":1, \n",
    "    \"Education\":1, \n",
    "    \"Self_Employed\":0,\n",
    "    \"ApplicantIncome\":5849,\n",
    "    \"CoapplicantIncome\" :1508.0,\n",
    "    \"LoanAmount\":50.0,\n",
    "    \"Loan_Amount_Term\":360,\n",
    "    \"Credit_History\":1.0,\n",
    "    \"Property_Area\":0 } \n"
   ]
  },
  {
   "cell_type": "code",
   "execution_count": 13,
   "id": "6c000dbf-6375-43ee-a7dc-4bde0acef2aa",
   "metadata": {},
   "outputs": [],
   "source": [
    "import requests\n",
    "URL = \"http://127.0.0.1:5656/scoring\"\n",
    "# sending get request and saving the response as response object \n",
    "r = requests.post(url = URL, json = json_data) "
   ]
  },
  {
   "cell_type": "code",
   "execution_count": 14,
   "id": "440a2a0b-33ce-4c83-995b-9ac3c3435032",
   "metadata": {},
   "outputs": [
    {
     "name": "stdout",
     "output_type": "stream",
     "text": [
      "[[0.2941517437615383, 0.7058482562384617]]\n"
     ]
    }
   ],
   "source": [
    "print(r.json())"
   ]
  },
  {
   "cell_type": "code",
   "execution_count": 15,
   "id": "a7030882-6094-4bdc-a403-b16a065a76e3",
   "metadata": {},
   "outputs": [],
   "source": [
    "import requests\n",
    "URL = \"http://ec2-54-91-239-38.compute-1.amazonaws.com:5656/scoring\"\n",
    "# sending get request and saving the response as response object \n",
    "r = requests.post(url = URL, json = json_data)"
   ]
  },
  {
   "cell_type": "code",
   "execution_count": 16,
   "id": "2d2be6b4-43aa-46dd-93fb-64e53ebcc5e5",
   "metadata": {},
   "outputs": [
    {
     "name": "stdout",
     "output_type": "stream",
     "text": [
      "[[0.2941517437615383, 0.7058482562384617]]\n"
     ]
    }
   ],
   "source": [
    "print(r.json())"
   ]
  },
  {
   "cell_type": "code",
   "execution_count": null,
   "id": "1b34a111-381a-4f88-95db-d8048470fa79",
   "metadata": {},
   "outputs": [],
   "source": []
  }
 ],
 "metadata": {
  "kernelspec": {
   "display_name": "Python 3 (ipykernel)",
   "language": "python",
   "name": "python3"
  },
  "language_info": {
   "codemirror_mode": {
    "name": "ipython",
    "version": 3
   },
   "file_extension": ".py",
   "mimetype": "text/x-python",
   "name": "python",
   "nbconvert_exporter": "python",
   "pygments_lexer": "ipython3",
   "version": "3.8.8"
  }
 },
 "nbformat": 4,
 "nbformat_minor": 5
}
